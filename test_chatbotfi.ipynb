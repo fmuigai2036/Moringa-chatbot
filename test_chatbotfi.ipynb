{
  "nbformat": 4,
  "nbformat_minor": 0,
  "metadata": {
    "colab": {
      "provenance": [],
      "include_colab_link": true
    },
    "kernelspec": {
      "name": "python3",
      "display_name": "Python 3"
    },
    "language_info": {
      "name": "python"
    }
  },
  "cells": [
    {
      "cell_type": "markdown",
      "metadata": {
        "id": "view-in-github",
        "colab_type": "text"
      },
      "source": [
        "<a href=\"https://colab.research.google.com/github/fmuigai2036/Moringa-chatbot/blob/main/test_chatbotfi.ipynb\" target=\"_parent\"><img src=\"https://colab.research.google.com/assets/colab-badge.svg\" alt=\"Open In Colab\"/></a>"
      ]
    },
    {
      "cell_type": "code",
      "execution_count": 1,
      "metadata": {
        "colab": {
          "base_uri": "https://localhost:8080/"
        },
        "id": "-3ylY2RHRaB1",
        "outputId": "a31fa550-91ec-4ffe-bd9c-6dafc793a03d"
      },
      "outputs": [
        {
          "output_type": "stream",
          "name": "stdout",
          "text": [
            "Looking in indexes: https://pypi.org/simple, https://us-python.pkg.dev/colab-wheels/public/simple/\n",
            "Requirement already satisfied: nltk in /usr/local/lib/python3.9/dist-packages (3.8.1)\n",
            "Requirement already satisfied: click in /usr/local/lib/python3.9/dist-packages (from nltk) (8.1.3)\n",
            "Requirement already satisfied: regex>=2021.8.3 in /usr/local/lib/python3.9/dist-packages (from nltk) (2022.10.31)\n",
            "Requirement already satisfied: tqdm in /usr/local/lib/python3.9/dist-packages (from nltk) (4.65.0)\n",
            "Requirement already satisfied: joblib in /usr/local/lib/python3.9/dist-packages (from nltk) (1.1.1)\n",
            "Looking in indexes: https://pypi.org/simple, https://us-python.pkg.dev/colab-wheels/public/simple/\n",
            "Collecting tflearn\n",
            "  Downloading tflearn-0.5.0.tar.gz (107 kB)\n",
            "\u001b[2K     \u001b[90m━━━━━━━━━━━━━━━━━━━━━━━━━━━━━━━━━━━━━━━\u001b[0m \u001b[32m107.3/107.3 kB\u001b[0m \u001b[31m3.1 MB/s\u001b[0m eta \u001b[36m0:00:00\u001b[0m\n",
            "\u001b[?25h  Preparing metadata (setup.py) ... \u001b[?25l\u001b[?25hdone\n",
            "Requirement already satisfied: numpy in /usr/local/lib/python3.9/dist-packages (from tflearn) (1.22.4)\n",
            "Requirement already satisfied: six in /usr/local/lib/python3.9/dist-packages (from tflearn) (1.16.0)\n",
            "Requirement already satisfied: Pillow in /usr/local/lib/python3.9/dist-packages (from tflearn) (8.4.0)\n",
            "Building wheels for collected packages: tflearn\n",
            "  Building wheel for tflearn (setup.py) ... \u001b[?25l\u001b[?25hdone\n",
            "  Created wheel for tflearn: filename=tflearn-0.5.0-py3-none-any.whl size=127299 sha256=f1b602a8b7fc4e1c748e88c81402581fb304613c25de39daab4f1addccdb663b\n",
            "  Stored in directory: /root/.cache/pip/wheels/4a/d5/f8/9585b4a100c0fd73da204ee785457d67c85e1b9050f009a849\n",
            "Successfully built tflearn\n",
            "Installing collected packages: tflearn\n",
            "Successfully installed tflearn-0.5.0\n"
          ]
        },
        {
          "output_type": "stream",
          "name": "stderr",
          "text": [
            "WARNING:tensorflow:From /usr/local/lib/python3.9/dist-packages/tensorflow/python/compat/v2_compat.py:107: disable_resource_variables (from tensorflow.python.ops.variable_scope) is deprecated and will be removed in a future version.\n",
            "Instructions for updating:\n",
            "non-resource variables are not supported in the long term\n",
            "[nltk_data] Downloading package punkt to /root/nltk_data...\n",
            "[nltk_data]   Unzipping tokenizers/punkt.zip.\n"
          ]
        }
      ],
      "source": [
        "!pip install nltk\n",
        "!pip install tflearn\n",
        "import numpy\n",
        "import tflearn\n",
        "import tensorflow\n",
        "import random\n",
        "import json\n",
        "import nltk\n",
        "nltk.download('punkt')\n",
        "from tensorflow.python.framework import ops\n",
        "from nltk.stem.lancaster import LancasterStemmer\n",
        "stemmer = LancasterStemmer()\n"
      ]
    },
    {
      "cell_type": "code",
      "source": [
        "import json\n",
        "with open('/content/FAQ (1)') as file:\n",
        "\n",
        "    data = json.load(file)\n",
        "print (data)"
      ],
      "metadata": {
        "colab": {
          "base_uri": "https://localhost:8080/"
        },
        "id": "VNwUkVqoR14K",
        "outputId": "64ba0d93-496c-4269-e75e-0fd40eb49cc9"
      },
      "execution_count": 3,
      "outputs": [
        {
          "output_type": "stream",
          "name": "stdout",
          "text": [
            "{'intents': [{'tag': 'greeting', 'patterns': ['Hi', 'How are you', 'Is anyone there?', 'Hello', 'Good day', 'Whats up'], 'responses': ['Hello!', 'Good to see you again!', 'Hi there, how can I help?'], 'context_set': ''}, {'tag': 'goodbye', 'patterns': ['cya', 'See you later', 'Goodbye', 'I am Leaving', 'Have a Good day'], 'responses': ['Sad to see you go :(', 'Talk to you later', 'Goodbye!'], 'context_set': ''}, {'tag': 'accommodation', 'patterns': ['do you offer accomodation', 'are there boarding facilities?', 'do you have hostels ?'], 'responses': ['No, we currently don’t provide accommodation. However, there are a number of private hostels along Ngong road, which are close to the school.'], 'context_set': ''}, {'tag': 'remote', 'patterns': ['Do you offer remote learning courses?', 'Are there online classes?', 'Can i take the course online?', 'Can i take virtual classes?'], 'responses': ['Moringa School’s remote classes are done live and online; with daily sessions where learners ask questions and interact with tutors and fellow students'], 'context_set': ''}, {'tag': 'data_bundles', 'patterns': ['Do students that are in the remote classes get data bundles to facilitate their studies?', 'What kind of support do remote class students get ?'], 'responses': ['Yes, students that have enrolled to our remote classes are provided with data bundles'], 'context_set': ''}, {'tag': 'price', 'patterns': ['What is the price of remote learning and in-person learning?', 'How much is the course?', 'How much are the fees?'], 'responses': ['The program pacing and course content for both remote and in-person classes are the same. For the in-person classes, students are allowed to be in our premises 2 days per week where they get to meet and interact with their trainers – for the remaining 3 days of the week you will still have live and instructor-led classes but they will be delivered online. For remote classes, all class interactions happen live and in real-time online. Remote classes cost Ksh 43,000 and Ksh 131,000 for Prep and Core respectively. In-person classes cost Ksh 50,000 and Ksh 150,000 for Prep and Core respectively.'], 'context_set': ''}, {'tag': 'difference', 'patterns': ['What is the difference between remote learning and in-person learning?'], 'responses': ['With in-person learning, we factor in the utilities and operational costs that help us maintain a great learning environment for our students while being physically present in our premises. We also pay keen attention to the spacing among students during in-person instruction to promote social distancing'], 'context_set': ''}, {'tag': 'certificate', 'patterns': ['Will I get a certificate upon completion?', 'Do i get  certificate?', 'Is there certification?'], 'responses': ['Yes, you will get a digital certificate after the successful completion of the program. A physical certificate can be printed for you at your cost.'], 'context_set': ''}, {'tag': 'programming', 'patterns': ['What if I’m not familiar with programming at all?', 'Do i need to have programming experience?', 'What if i cannot code?'], 'responses': ['Our Moringa Prep course introduces you to basic programming. This course is for beginners to learn the fundamentals of programming and for more established developers to sharpen their grasp on front-end skills. Visit the courses page to learn more.'], 'context_set': ''}, {'tag': 'job', 'patterns': ['Will I get a job after completion of the program?', 'Do you help students get jobs?', 'Am i assured of a job after?'], 'responses': ['That depends entirely on your aptitude and attitude. While we provide world-class teachers and experts to support you, the learning is on you. We put in our best and we expect you to put in yours as well. We do not guarantee jobs but we will help facilitate the process by assisting in your professional development, providing resume-writing workshops, optimizing your LinkedIn profile, conducting mock interviews, and hosting recruitment drives with our employer partners.'], 'context_set': ''}, {'tag': 'financial_aid', 'patterns': ['Is financial aid available?', 'What about finacial aid?', 'Can i get financial aid?'], 'responses': ['We offer financial aid to our students on a need and merit basis. The options that are currently available include partial scholarships for Moringa Prep and student loans for Moringa Core. For more information on financial aid please visit our financial aid page using this link'], 'context_set': ''}, {'tag': 'installments', 'patterns': ['Are there installment plans ?', 'Can i pay in installments?', 'How can i pay in installmets?'], 'responses': ['All enrolling students are required to pay upfront tuition of Ksh 43,000 for live online classes and KSh 50,000 for hybrid in-person classes by the last Friday before a Prep class starts.Installments plans for core program are available here: https://moringaschool.com/wp-content/uploads/2022/10/Financing-Moringa-Data-Science-Part-Time-FI-Remote-Installment-Plan-DSF-PT4-May-8th-Class.docx.pdf'], 'context_set': ''}, {'tag': 'Requirements', 'patterns': ['What Qualifications should one have?', 'What are the entry level requirements?'], 'responses': ['We are currently registered under TVET (Technical and Vocational Education and Training). We require all our students to have gone through high school as is required by law (TVET) and should be computer proficient.'], 'context_set': ''}, {'tag': 'certification', 'patterns': ['Do you offer certificates and are they recognized by the Kenya Government?'], 'responses': ['Moringa School is registered in Kenya by the Technical & Vocational Education and Training Authority(TVETA). However, we DO NOT offer academic qualifications that can be exchanged for credits in our local colleges and universities. We are in the process of working with TVETA to have our training standards certified which means that we will become the to-go-to when it comes to tech training standards in Kenya. Additionally, we encourage and assist our students to build their portfolios which is a better marketing tool e.g in a course like Software Development which involves coming up with independent projects that build up technical skills.'], 'context_set': ''}, {'tag': 'employment', 'patterns': ['Do you guarantee employment upon completion of this course?', 'Am i assured of employment after completion?'], 'responses': ['NO. What we guarantee is career-ready skills. Our courses are practical and relevant to the market. That is why many of our graduates find jobs. Moringa School offers support through training and informing graduates of job opportunities. Graduates then apply and some get these jobs. Other graduates have found jobs without our direct support while others have ventured into freelancing and entrepreneurship. Moringa School is proud to have helped all these brilliant young people achieve their career goals.'], 'context_set': ''}]}\n"
          ]
        }
      ]
    },
    {
      "cell_type": "code",
      "source": [
        "words = []\n",
        "labels = []\n",
        "docs_x = []\n",
        "docs_y = []\n",
        "\n",
        "for intent in data['intents']:\n",
        "    for pattern in intent['patterns']:\n",
        "        wrds = nltk.word_tokenize(pattern)\n",
        "        words.extend(wrds)\n",
        "        docs_x.append(wrds)\n",
        "        docs_y.append(intent[\"tag\"])\n",
        "        \n",
        "    if intent['tag'] not in labels:\n",
        "        labels.append(intent['tag'])"
      ],
      "metadata": {
        "id": "XQomBGt-SH0i"
      },
      "execution_count": 4,
      "outputs": []
    },
    {
      "cell_type": "code",
      "source": [
        "words = [stemmer.stem(w.lower()) for w in words if w != \"?\"]\n",
        "words = sorted(list(set(words)))\n",
        "\n",
        "labels = sorted(labels)"
      ],
      "metadata": {
        "id": "pwjmOtwjSQHg"
      },
      "execution_count": 5,
      "outputs": []
    },
    {
      "cell_type": "code",
      "source": [
        "training = []\n",
        "output = []\n",
        "\n",
        "out_empty = [0 for _ in range(len(labels))]\n",
        "\n",
        "for x, doc in enumerate(docs_x):\n",
        "    bag = []\n",
        "\n",
        "    wrds = [stemmer.stem(w.lower()) for w in doc]\n",
        "\n",
        "    for w in words:\n",
        "        if w in wrds:\n",
        "            bag.append(1)\n",
        "        else:\n",
        "            bag.append(0)\n",
        "\n",
        "    output_row = out_empty[:]\n",
        "    output_row[labels.index(docs_y[x])] = 1\n",
        "\n",
        "    training.append(bag)\n",
        "    output.append(output_row)"
      ],
      "metadata": {
        "id": "VIw7aXfoSUTh"
      },
      "execution_count": 6,
      "outputs": []
    },
    {
      "cell_type": "code",
      "source": [
        "training = numpy.array(training)\n",
        "output = numpy.array(output)"
      ],
      "metadata": {
        "id": "-dD8zlg5SX6R"
      },
      "execution_count": 7,
      "outputs": []
    },
    {
      "cell_type": "code",
      "source": [
        "ops.reset_default_graph()\n",
        "\n",
        "net = tflearn.input_data(shape=[None, len(training[0])])\n",
        "net = tflearn.fully_connected(net, 10)\n",
        "net = tflearn.fully_connected(net, 10)\n",
        "net = tflearn.fully_connected(net, len(output[0]), activation=\"softmax\")\n",
        "net = tflearn.regression(net)\n",
        "\n",
        "model = tflearn.DNN(net)\n"
      ],
      "metadata": {
        "id": "5PMZDk8RScMY",
        "colab": {
          "base_uri": "https://localhost:8080/"
        },
        "outputId": "991f91f3-f0cf-48ac-df4c-4e9381b447ba"
      },
      "execution_count": 8,
      "outputs": [
        {
          "output_type": "stream",
          "name": "stderr",
          "text": [
            "WARNING:tensorflow:From /usr/local/lib/python3.9/dist-packages/tflearn/initializations.py:164: calling TruncatedNormal.__init__ (from tensorflow.python.ops.init_ops) with dtype is deprecated and will be removed in a future version.\n",
            "Instructions for updating:\n",
            "Call initializer instance with the dtype argument instead of passing it to the constructor\n"
          ]
        }
      ]
    },
    {
      "cell_type": "code",
      "source": [
        "model.fit(training, output, n_epoch=1000, batch_size=8, show_metric=True)\n"
      ],
      "metadata": {
        "id": "oVv-w7ZGVjPG",
        "outputId": "ec3f329f-ed3d-4f38-d553-367a2f87a8b0",
        "colab": {
          "base_uri": "https://localhost:8080/"
        }
      },
      "execution_count": 9,
      "outputs": [
        {
          "output_type": "stream",
          "name": "stdout",
          "text": [
            "Training Step: 5999  | total loss: \u001b[1m\u001b[32m0.11051\u001b[0m\u001b[0m | time: 0.020s\n",
            "| Adam | epoch: 1000 | loss: 0.11051 - acc: 0.9944 -- iter: 40/44\n",
            "Training Step: 6000  | total loss: \u001b[1m\u001b[32m0.10400\u001b[0m\u001b[0m | time: 0.023s\n",
            "| Adam | epoch: 1000 | loss: 0.10400 - acc: 0.9949 -- iter: 44/44\n",
            "--\n"
          ]
        }
      ]
    },
    {
      "cell_type": "code",
      "source": [
        "def bag_of_words(s, words):\n",
        "    bag = [0 for _ in range(len(words))]\n",
        "\n",
        "    s_words = nltk.word_tokenize(s)\n",
        "    s_words = [stemmer.stem(word.lower()) for word in s_words]\n",
        "\n",
        "    for se in s_words:\n",
        "        for i, w in enumerate(words):\n",
        "            if w == se:\n",
        "                bag[i] = 1\n",
        "            \n",
        "    return numpy.array(bag)\n",
        "\n",
        "\n",
        "def chat():\n",
        "    print(\"Start talking with the quora (type quit to stop)!\")\n",
        "    while True:\n",
        "        inp = input(\"You: \")\n",
        "        if inp.lower() == \"quit\":\n",
        "            break\n",
        "\n",
        "        results = model.predict([bag_of_words(inp, words)])\n",
        "        results_index = numpy.argmax(results)\n",
        "        tag = labels[results_index]\n",
        "\n",
        "        for tg in data[\"intents\"]:\n",
        "            if tg['tag'] == tag:\n",
        "                responses = tg['responses']\n",
        "\n",
        "        print(random.choice(responses))\n",
        "\n",
        "chat()"
      ],
      "metadata": {
        "colab": {
          "base_uri": "https://localhost:8080/"
        },
        "id": "_Y1lwgH4SvTm",
        "outputId": "13b91fb4-e0df-44c2-a674-fca7fdc57e60"
      },
      "execution_count": null,
      "outputs": [
        {
          "output_type": "stream",
          "name": "stdout",
          "text": [
            "Start talking with the quora (type quit to stop)!\n",
            "You: certification\n",
            "Yes, you will get a digital certificate after the successful completion of the program. A physical certificate can be printed for you at your cost.\n"
          ]
        }
      ]
    }
  ]
}